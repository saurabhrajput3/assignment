{
 "cells": [
  {
   "cell_type": "markdown",
   "id": "a9413704",
   "metadata": {},
   "source": [
    "1.Python Program for n-th Fibonacci number"
   ]
  },
  {
   "cell_type": "code",
   "execution_count": 10,
   "id": "65fe4806",
   "metadata": {},
   "outputs": [
    {
     "data": {
      "text/plain": [
       "3"
      ]
     },
     "execution_count": 10,
     "metadata": {},
     "output_type": "execute_result"
    }
   ],
   "source": [
    "def fibonacci(n):\n",
    "    a=0\n",
    "    b=1\n",
    "    \n",
    "    if n<=0:\n",
    "        print(\"INVALID\")\n",
    "    elif n==1:\n",
    "        return a\n",
    "    elif n==2:\n",
    "        return b\n",
    "    else:\n",
    "        for i in range(2,n):\n",
    "            c=a+b\n",
    "            a=b\n",
    "            b=c\n",
    "        return b\n",
    "fibonacci(5)"
   ]
  },
  {
   "cell_type": "markdown",
   "id": "9bb4ca3d",
   "metadata": {},
   "source": [
    "2.Python Program for How to check if a given number is Fibonacci number?"
   ]
  },
  {
   "cell_type": "code",
   "execution_count": 5,
   "id": "5e480ac7",
   "metadata": {},
   "outputs": [
    {
     "name": "stdout",
     "output_type": "stream",
     "text": [
      "Enter the number: 11\n",
      "No\n"
     ]
    }
   ],
   "source": [
    "n=int(input(\"Enter the number: \"))\n",
    "c=0\n",
    "a=1\n",
    "b=1\n",
    "if n==0 or n==1:\n",
    "    print(\"Yes\")\n",
    "else:\n",
    "    while c<n:\n",
    "        c=a+b\n",
    "        b=a\n",
    "        a=c\n",
    "    if c==n:\n",
    "        print(\"Yes\")\n",
    "    else:\n",
    "        print(\"No\")"
   ]
  },
  {
   "cell_type": "markdown",
   "id": "b1fca637",
   "metadata": {},
   "source": [
    "3.Python Program for n\\’th multiple of a number in Fibonacci Series"
   ]
  },
  {
   "cell_type": "code",
   "execution_count": 2,
   "id": "1436bd96",
   "metadata": {},
   "outputs": [
    {
     "name": "stdout",
     "output_type": "stream",
     "text": [
      "Position of  5 th multiple of 4 inFibonacci Series is 30\n"
     ]
    }
   ],
   "source": [
    "def findPosition(k, n):\n",
    "    f1 = 0\n",
    "    f2 = 1\n",
    "    i =2;\n",
    "    while i!=0:\n",
    "        f3 = f1 + f2;\n",
    "        f1 = f2;\n",
    "        f2 = f3;\n",
    " \n",
    "        if f2%k == 0:\n",
    "            return n*i\n",
    " \n",
    "        i+=1\n",
    "         \n",
    "    return\n",
    " \n",
    " \n",
    "# Multiple no.\n",
    "n = 5;\n",
    "# Number of whose multiple we are finding\n",
    "k = 4;\n",
    " \n",
    "print(\"Position of \",n,\"th multiple of\", k ,\"in\"\n",
    "                \"Fibonacci Series is\", findPosition(k,n));"
   ]
  },
  {
   "cell_type": "markdown",
   "id": "c95e5179",
   "metadata": {},
   "source": [
    "4.Program to print ASCII Value of a character"
   ]
  },
  {
   "cell_type": "code",
   "execution_count": 25,
   "id": "19fd79ab",
   "metadata": {},
   "outputs": [
    {
     "name": "stdout",
     "output_type": "stream",
     "text": [
      "Enter the number:\n",
      "a\n",
      "The ascii value is: 97\n"
     ]
    }
   ],
   "source": [
    "print(\"Enter the number:\")\n",
    "a=input()\n",
    "b=ord(a)\n",
    "print(\"The ascii value is:\",b)"
   ]
  },
  {
   "cell_type": "markdown",
   "id": "82e1e06d",
   "metadata": {},
   "source": [
    "5.Python Program for Sum of squares of first n natural numbers"
   ]
  },
  {
   "cell_type": "code",
   "execution_count": 42,
   "id": "cf659243",
   "metadata": {},
   "outputs": [
    {
     "name": "stdout",
     "output_type": "stream",
     "text": [
      "Enter the number\n",
      "3\n",
      "14\n"
     ]
    }
   ],
   "source": [
    "print(\"Enter the number\")\n",
    "a=int(input())\n",
    "b=0\n",
    "for i in range(1,a+1):\n",
    "     b=b+(i*i)\n",
    "print(b)"
   ]
  },
  {
   "cell_type": "markdown",
   "id": "0d18b726",
   "metadata": {},
   "source": [
    "6.Python Program for cube sum of first n natural numbers"
   ]
  },
  {
   "cell_type": "code",
   "execution_count": 46,
   "id": "5f3254a4",
   "metadata": {},
   "outputs": [
    {
     "name": "stdout",
     "output_type": "stream",
     "text": [
      "Enter the number:\n",
      "2\n",
      "9\n"
     ]
    }
   ],
   "source": [
    "print(\"Enter the number:\")\n",
    "a=int(input())\n",
    "b=0\n",
    "for i in range(1,a+1):\n",
    "    b=b+(i*i*i)\n",
    "print(b)"
   ]
  },
  {
   "cell_type": "markdown",
   "id": "b0170cc9",
   "metadata": {},
   "source": [
    "7.Python Program to find sum of array"
   ]
  },
  {
   "cell_type": "code",
   "execution_count": 47,
   "id": "4a78d2ae",
   "metadata": {},
   "outputs": [
    {
     "name": "stdout",
     "output_type": "stream",
     "text": [
      "45\n"
     ]
    }
   ],
   "source": [
    "arr=[1,2,3,4,5,6,7,8,9]\n",
    "a=0\n",
    "\n",
    "for i in arr:\n",
    "    a=a+i\n",
    "print(a)"
   ]
  },
  {
   "cell_type": "code",
   "execution_count": 49,
   "id": "64c5e9fa",
   "metadata": {},
   "outputs": [
    {
     "name": "stdout",
     "output_type": "stream",
     "text": [
      "sum is: 45\n"
     ]
    }
   ],
   "source": [
    "arr=[1,2,3,4,5,6,7,8,9]\n",
    "\n",
    "print(\"sum is:\",sum(arr))"
   ]
  },
  {
   "cell_type": "markdown",
   "id": "a308e900",
   "metadata": {},
   "source": [
    "8.Python Program to find largest element in an array"
   ]
  },
  {
   "cell_type": "code",
   "execution_count": 60,
   "id": "83aabfae",
   "metadata": {},
   "outputs": [
    {
     "name": "stdout",
     "output_type": "stream",
     "text": [
      "95\n"
     ]
    }
   ],
   "source": [
    "arr=[5,86,36,95,66,11]\n",
    "a=len(arr)\n",
    "max=arr[0]\n",
    "for i in range(1,a):\n",
    "    if arr[i]>max:\n",
    "        max=arr[i]\n",
    "print(max)"
   ]
  },
  {
   "cell_type": "markdown",
   "id": "8d61c1ce",
   "metadata": {},
   "source": [
    "9.Python Program for array rotation"
   ]
  },
  {
   "cell_type": "code",
   "execution_count": 14,
   "id": "d5e37641",
   "metadata": {},
   "outputs": [
    {
     "name": "stdout",
     "output_type": "stream",
     "text": [
      "[3, 4, 5, 6, 1, 2]\n"
     ]
    }
   ],
   "source": [
    "arr=[1,2,3,4,5,6]\n",
    "n=len(arr)\n",
    "d=2\n",
    "arr1=[]\n",
    "arr2=[]\n",
    "a=0\n",
    "while(a<d):\n",
    "    arr1.append(arr[a])\n",
    "    a=a+1\n",
    "\n",
    "while(d<n):\n",
    "    arr2.append(arr[d])\n",
    "    d=d+1\n",
    "arr[:]=arr2+arr1\n",
    "print(arr)"
   ]
  },
  {
   "cell_type": "markdown",
   "id": "84af1540",
   "metadata": {},
   "source": [
    "10.Python Program for Reversal algorithm for array rotation"
   ]
  },
  {
   "cell_type": "code",
   "execution_count": 9,
   "id": "b83b0ffd",
   "metadata": {},
   "outputs": [
    {
     "name": "stdout",
     "output_type": "stream",
     "text": [
      "3 4 5 6 7 1 2 "
     ]
    }
   ],
   "source": [
    "def rverseArray(arr, start, end):\n",
    "    while (start < end):\n",
    "        temp = arr[start]\n",
    "        arr[start] = arr[end]\n",
    "        arr[end] = temp\n",
    "        start += 1\n",
    "        end = end-1\n",
    "  \n",
    "# Function to left rotate arr[] of size n by d\n",
    "def leftRotate(arr, d):\n",
    "    n = len(arr)\n",
    "    rverseArray(arr, 0, d-1)\n",
    "    rverseArray(arr, d, n-1)\n",
    "    rverseArray(arr, 0, n-1)\n",
    "  \n",
    "# Function to print an array\n",
    "def printArray(arr):\n",
    "    for i in range(0, len(arr)):\n",
    "        print (arr[i],end=\" \")\n",
    "  \n",
    "# Driver function to test above functions\n",
    "arr = [1, 2, 3, 4, 5, 6, 7]\n",
    "leftRotate(arr, 2) # Rotate array by 2\n",
    "printArray(arr)"
   ]
  },
  {
   "cell_type": "markdown",
   "id": "7559a9a6",
   "metadata": {},
   "source": [
    "11.Python Program to Split the array and add the first part to the end"
   ]
  },
  {
   "cell_type": "code",
   "execution_count": 11,
   "id": "047779e3",
   "metadata": {},
   "outputs": [
    {
     "name": "stdout",
     "output_type": "stream",
     "text": [
      "[3, 4, 5, 6, 8, 7, 1, 2]\n"
     ]
    }
   ],
   "source": [
    "def split(arr,n,p):\n",
    "    b=arr[p:]+arr[:p]\n",
    "    print(b)\n",
    "arr=[1,2,3,4,5,6,8,7]\n",
    "n=len(arr)\n",
    "p=2\n",
    "split(arr,n,p)"
   ]
  }
 ],
 "metadata": {
  "kernelspec": {
   "display_name": "Python 3",
   "language": "python",
   "name": "python3"
  },
  "language_info": {
   "codemirror_mode": {
    "name": "ipython",
    "version": 3
   },
   "file_extension": ".py",
   "mimetype": "text/x-python",
   "name": "python",
   "nbconvert_exporter": "python",
   "pygments_lexer": "ipython3",
   "version": "3.8.8"
  }
 },
 "nbformat": 4,
 "nbformat_minor": 5
}
