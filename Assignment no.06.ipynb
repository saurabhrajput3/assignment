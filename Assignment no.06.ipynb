{
 "cells": [
  {
   "cell_type": "markdown",
   "id": "5a89fd93",
   "metadata": {},
   "source": [
    "1.Python program to add two Matrices"
   ]
  },
  {
   "cell_type": "code",
   "execution_count": 19,
   "id": "17665498",
   "metadata": {},
   "outputs": [
    {
     "name": "stdout",
     "output_type": "stream",
     "text": [
      "[2, 4, 6]\n",
      "[8, 10, 12]\n",
      "[14, 16, 18]\n"
     ]
    }
   ],
   "source": [
    "a=[[1,2,3],\n",
    "   [4,5,6], \n",
    "   [7,8,9]]\n",
    "\n",
    "b=[[1,2,3],\n",
    "   [4,5,6], \n",
    "   [7,8,9]]\n",
    "\n",
    "result=[[0,0,0],\n",
    "       [0,0,0], \n",
    "       [0,0,0]]\n",
    "for i in range(len(a)):\n",
    "    for j in range(len(a[0])):\n",
    "        result[i][j]=a[i][j]+b[i][j]\n",
    "for r in result:\n",
    "    print(r)\n"
   ]
  },
  {
   "cell_type": "markdown",
   "id": "3d0d9800",
   "metadata": {},
   "source": [
    "2.Python program to multiply two matrices"
   ]
  },
  {
   "cell_type": "code",
   "execution_count": 37,
   "id": "bbe54083",
   "metadata": {},
   "outputs": [
    {
     "name": "stdout",
     "output_type": "stream",
     "text": [
      "[1, 4, 9]\n",
      "[16, 25, 36]\n",
      "[49, 64, 81]\n"
     ]
    }
   ],
   "source": [
    "a=[[1,2,3],\n",
    "  [4,5,6], \n",
    "  [7,8,9]]\n",
    "\n",
    "b=[[1,2,3],\n",
    "   [4,5,6], \n",
    "   [7,8,9]]\n",
    "\n",
    "result=[[0,0,0],\n",
    "       [0,0,0], \n",
    "       [0,0,0]]\n",
    "for i in range(len(a)):\n",
    "    for j in range(len(a[0])):\n",
    "        result[i][j]=a[i][j]*b[i][j]\n",
    "for r in result:\n",
    "    print(r)"
   ]
  },
  {
   "cell_type": "markdown",
   "id": "2562ee96",
   "metadata": {},
   "source": [
    "3.Python program for Matrix Product"
   ]
  },
  {
   "cell_type": "code",
   "execution_count": 7,
   "id": "1e64cb90",
   "metadata": {},
   "outputs": [
    {
     "name": "stdout",
     "output_type": "stream",
     "text": [
      "[114 160  60  27]\n",
      "[74 97 73 14]\n",
      "[119 157 112  23]\n"
     ]
    }
   ],
   "source": [
    "'using numpy lib'\n",
    "import numpy as np \n",
    "\n",
    "A = [[12, 7, 3], [4, 5, 6], [7, 8, 9]]\n",
    "B = [[5, 8, 1, 2], [6, 7, 3, 0], [4, 5, 9, 1]]\n",
    "\n",
    "result= [[0,0,0,0], [0,0,0,0], [0,0,0,0]]\n",
    "result= np.dot(A,B)\n",
    "\n",
    "for p in result:\n",
    "    print(p)"
   ]
  },
  {
   "cell_type": "markdown",
   "id": "e5bc1f80",
   "metadata": {},
   "source": [
    "4.Adding and Subtracting Matrices in Python"
   ]
  },
  {
   "cell_type": "code",
   "execution_count": 19,
   "id": "0ba86cd1",
   "metadata": {},
   "outputs": [
    {
     "name": "stdout",
     "output_type": "stream",
     "text": [
      "addition of matrices is\n",
      "[13, 69, 11]\n",
      "[13, 13, 16]\n",
      "[27, 9, 9]\n",
      "subtraction of matrices is\n",
      "[-3, 57, -7]\n",
      "[-1, 5, 0]\n",
      "[-17, -3, 3]\n"
     ]
    }
   ],
   "source": [
    "a=[[5,63,2],\n",
    "   [6,9,8],\n",
    "   [5,3,6]]\n",
    "b=[[8,6,9],\n",
    "   [7,4,8],\n",
    "   [22,6,3]]\n",
    "c=[[0,0,0],\n",
    "   [0,0,0],\n",
    "   [0,0,0]]\n",
    "for i in range(len(a)):\n",
    "    for j in range(len(a[0])):\n",
    "        c[i][j]=a[i][j]+b[i][j]\n",
    "print(\"addition of matrices is\")\n",
    "for k in c:\n",
    "    print(k)\n",
    "    \n",
    "for i in range(len(a)):\n",
    "    for j in range(len(a[0])):\n",
    "        c[i][j]=a[i][j]-b[i][j]\n",
    "print(\"subtraction of matrices is\")\n",
    "for k in c:\n",
    "    print(k)\n"
   ]
  },
  {
   "cell_type": "markdown",
   "id": "416091cf",
   "metadata": {},
   "source": [
    "5.Transpose a matrix in Single line in Python"
   ]
  },
  {
   "cell_type": "code",
   "execution_count": 6,
   "id": "9353a011",
   "metadata": {},
   "outputs": [
    {
     "name": "stdout",
     "output_type": "stream",
     "text": [
      "[[1 3 5]\n",
      " [2 4 6]]\n"
     ]
    }
   ],
   "source": [
    "'Using numpy'\n",
    "import numpy as np\n",
    "m = [[1,2],[3,4],[5,6]]\n",
    "n=np.transpose(m)\n",
    "print(n)"
   ]
  },
  {
   "cell_type": "markdown",
   "id": "8c8201ea",
   "metadata": {},
   "source": [
    "6.Python | Matrix creation of n*n"
   ]
  },
  {
   "cell_type": "code",
   "execution_count": 6,
   "id": "4fdae646",
   "metadata": {},
   "outputs": [
    {
     "name": "stdout",
     "output_type": "stream",
     "text": [
      "[[1, 2, 3, 4], [5, 6, 7, 8], [9, 10, 11, 12], [13, 14, 15, 16]]\n"
     ]
    }
   ],
   "source": [
    "n=4\n",
    "\n",
    "m=[list(range(1+n*i,1+n*(i+1))) for i in range(n)]\n",
    "print(m)"
   ]
  },
  {
   "cell_type": "markdown",
   "id": "5adc5551",
   "metadata": {},
   "source": [
    "7.Python | Get Kth Column of Matrix"
   ]
  },
  {
   "cell_type": "code",
   "execution_count": 7,
   "id": "1d6cb412",
   "metadata": {},
   "outputs": [
    {
     "name": "stdout",
     "output_type": "stream",
     "text": [
      "[2, 4, 6]\n"
     ]
    }
   ],
   "source": [
    "m = [[1,2],[3,4],[5,6]]\n",
    "k=1\n",
    "n=[i[k] for i in m]\n",
    "print(n)"
   ]
  },
  {
   "cell_type": "markdown",
   "id": "722a0d5f",
   "metadata": {},
   "source": [
    "8.Python – Vertical Concatenation in Matrix"
   ]
  },
  {
   "cell_type": "code",
   "execution_count": 12,
   "id": "95767d28",
   "metadata": {},
   "outputs": [
    {
     "name": "stdout",
     "output_type": "stream",
     "text": [
      "The original list : [['Gfg', 'good'], ['is', 'for'], ['Best']]\n",
      "List after column Concatenation : ['GfgisBest', 'goodfor']\n"
     ]
    }
   ],
   "source": [
    "test_list = [[\"Gfg\", \"good\"], [\"is\", \"for\"], [\"Best\"]]\n",
    "  \n",
    "print(\"The original list : \" + str(test_list))\n",
    "  \n",
    "res = []\n",
    "N = 0\n",
    "while N != len(test_list):\n",
    "    temp = ''\n",
    "    for idx in test_list:\n",
    "        try: temp = temp + idx[N]\n",
    "        except IndexError: pass\n",
    "    res.append(temp)\n",
    "    N = N + 1\n",
    "    res = [ele for ele in res if ele]\n",
    "   \n",
    "print(\"List after column Concatenation : \" + str(res))"
   ]
  },
  {
   "cell_type": "markdown",
   "id": "1f9ed66c",
   "metadata": {},
   "source": [
    "9.Python program to check if a string is palindrome or not"
   ]
  },
  {
   "cell_type": "code",
   "execution_count": 30,
   "id": "ee954a9f",
   "metadata": {},
   "outputs": [
    {
     "name": "stdout",
     "output_type": "stream",
     "text": [
      "True\n"
     ]
    }
   ],
   "source": [
    "\"1st sloution\"\n",
    "\n",
    "s=\"radar\"\n",
    "\n",
    "a=\"\"\n",
    "\n",
    "for i in s:\n",
    "    a=i+a\n",
    "if s==a:\n",
    "    print(True)\n",
    "else:\n",
    "    print(False)"
   ]
  },
  {
   "cell_type": "code",
   "execution_count": 31,
   "id": "fbcb2a8b",
   "metadata": {
    "scrolled": true
   },
   "outputs": [
    {
     "name": "stdout",
     "output_type": "stream",
     "text": [
      "False\n"
     ]
    }
   ],
   "source": [
    "\"2nd solution\"\n",
    "\n",
    "s=\"saurabh\"\n",
    "\n",
    "a=s[::-1]\n",
    "\n",
    "if s==a:\n",
    "    print(True)\n",
    "else:\n",
    "    print(False)"
   ]
  },
  {
   "cell_type": "markdown",
   "id": "b0b6c182",
   "metadata": {},
   "source": [
    "10.Python program to check whether the string is Symmetrical or Palindrome"
   ]
  },
  {
   "cell_type": "code",
   "execution_count": 83,
   "id": "be489a5b",
   "metadata": {},
   "outputs": [
    {
     "name": "stdout",
     "output_type": "stream",
     "text": [
      "No palindrome\n",
      "It's symmetrical\n"
     ]
    }
   ],
   "source": [
    "s=\"tintin\"\n",
    "h=[]\n",
    "p=[]\n",
    "\n",
    "a=s[::-1]\n",
    "\n",
    "b=int((len(s)/2))\n",
    "\n",
    "if s==a:\n",
    "    print(\"It's palindrome \")\n",
    "\n",
    "else:\n",
    "    print(\"No palindrome\")\n",
    "\n",
    "for k in range(b):\n",
    "    c=s[k]\n",
    "    h.append(c)\n",
    "    \n",
    "for o in range(b,len(s)):\n",
    "    l=s[o]\n",
    "    p.append(l)\n",
    "    \n",
    "if h==p:\n",
    "    print(\"It's symmetrical\")\n",
    "else:\n",
    "    print(\"No symmetrical\")"
   ]
  }
 ],
 "metadata": {
  "kernelspec": {
   "display_name": "Python 3",
   "language": "python",
   "name": "python3"
  },
  "language_info": {
   "codemirror_mode": {
    "name": "ipython",
    "version": 3
   },
   "file_extension": ".py",
   "mimetype": "text/x-python",
   "name": "python",
   "nbconvert_exporter": "python",
   "pygments_lexer": "ipython3",
   "version": "3.8.8"
  }
 },
 "nbformat": 4,
 "nbformat_minor": 5
}
