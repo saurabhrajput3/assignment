{
 "cells": [
  {
   "cell_type": "markdown",
   "id": "ee6cb2e3",
   "metadata": {},
   "source": [
    "1.Python program to find smallest number in a list"
   ]
  },
  {
   "cell_type": "code",
   "execution_count": 1,
   "id": "9d7aae27",
   "metadata": {},
   "outputs": [
    {
     "name": "stdout",
     "output_type": "stream",
     "text": [
      "1\n"
     ]
    }
   ],
   "source": [
    "list=[56,2,3,5,1,68,95,6]\n",
    "\n",
    "min=list[0]\n",
    "\n",
    "for i in range(1,len(list)):\n",
    "    if min>list[i]:\n",
    "        min=list[i]\n",
    "\n",
    "print(min)"
   ]
  },
  {
   "cell_type": "code",
   "execution_count": 1,
   "id": "85c0fbb3",
   "metadata": {},
   "outputs": [
    {
     "name": "stdout",
     "output_type": "stream",
     "text": [
      "2\n"
     ]
    }
   ],
   "source": [
    "list=[56,2,3,5,18,95,6]\n",
    "\n",
    "print(min(list))"
   ]
  },
  {
   "cell_type": "markdown",
   "id": "85a8cd98",
   "metadata": {},
   "source": [
    "2.Python program to find largest number in a list"
   ]
  },
  {
   "cell_type": "code",
   "execution_count": 2,
   "id": "6c06326a",
   "metadata": {},
   "outputs": [
    {
     "name": "stdout",
     "output_type": "stream",
     "text": [
      "99\n"
     ]
    }
   ],
   "source": [
    "list=[15,6,3,22,55,1,66,88,99]\n",
    "\n",
    "print(max(list))"
   ]
  },
  {
   "cell_type": "markdown",
   "id": "698e6060",
   "metadata": {},
   "source": [
    "3.Python program to find second largest number in a list"
   ]
  },
  {
   "cell_type": "code",
   "execution_count": 6,
   "id": "dd32f6ed",
   "metadata": {},
   "outputs": [
    {
     "name": "stdout",
     "output_type": "stream",
     "text": [
      "9\n"
     ]
    }
   ],
   "source": [
    "list=[5,2,6,8,9,55]\n",
    "list.sort()\n",
    "print(list[-2])"
   ]
  },
  {
   "cell_type": "code",
   "execution_count": 6,
   "id": "d31753a2",
   "metadata": {},
   "outputs": [
    {
     "name": "stdout",
     "output_type": "stream",
     "text": [
      "22\n"
     ]
    }
   ],
   "source": [
    "list=[2,3,5,22,1,4,33]\n",
    "print(sorted(list)[-2])"
   ]
  },
  {
   "cell_type": "markdown",
   "id": "0fabc8d4",
   "metadata": {},
   "source": [
    "4.Python program to find N largest elements from a list"
   ]
  },
  {
   "cell_type": "code",
   "execution_count": 11,
   "id": "871b7eb3",
   "metadata": {},
   "outputs": [
    {
     "name": "stdout",
     "output_type": "stream",
     "text": [
      "Enter number\n",
      "2\n",
      "[9, 56]\n"
     ]
    }
   ],
   "source": [
    "list=[1,2,56,3,6,5,8,9]\n",
    "list.sort()\n",
    "print(\"Enter number\")\n",
    "a=int(input())\n",
    "print(list[-a:])"
   ]
  },
  {
   "cell_type": "code",
   "execution_count": 13,
   "id": "8a8a0ac4",
   "metadata": {},
   "outputs": [
    {
     "name": "stdout",
     "output_type": "stream",
     "text": [
      "Enter number\n",
      "2\n",
      "[9, 56]\n"
     ]
    }
   ],
   "source": [
    "list=[1,2,56,3,6,5,8,9]\n",
    "\n",
    "print(\"Enter number\")\n",
    "a=int(input())\n",
    "print(sorted(list)[-a:])"
   ]
  },
  {
   "cell_type": "markdown",
   "id": "fd5be308",
   "metadata": {},
   "source": [
    "5.Python program to print even numbers in a list"
   ]
  },
  {
   "cell_type": "code",
   "execution_count": 1,
   "id": "f4b3b18b",
   "metadata": {},
   "outputs": [
    {
     "name": "stdout",
     "output_type": "stream",
     "text": [
      "2 6 8 66 "
     ]
    }
   ],
   "source": [
    "list=[2,6,5,8,66,3,49]\n",
    "\n",
    "for i in list:\n",
    "    if i%2==0:\n",
    "        print(i, end=\" \")"
   ]
  },
  {
   "cell_type": "code",
   "execution_count": 13,
   "id": "1757158b",
   "metadata": {},
   "outputs": [
    {
     "name": "stdout",
     "output_type": "stream",
     "text": [
      "2 6 8 66 12 "
     ]
    }
   ],
   "source": [
    "list=[2,6,5,8,66,3,49,12]\n",
    "i=0\n",
    "while (i < len(list)):\n",
    "    if list[i]%2==0:\n",
    "        print(list[i], end=\" \")\n",
    "    \n",
    "    i=i+1"
   ]
  },
  {
   "cell_type": "code",
   "execution_count": 18,
   "id": "f08bd075",
   "metadata": {},
   "outputs": [
    {
     "name": "stdout",
     "output_type": "stream",
     "text": [
      "[2, 6, 8, 66, 12]\n"
     ]
    }
   ],
   "source": [
    "# list comprehension\n",
    "list=[2,6,5,8,66,3,49,12]\n",
    "n=[i for i in list if i%2==0] \n",
    "print(n)"
   ]
  },
  {
   "cell_type": "markdown",
   "id": "30dbcc46",
   "metadata": {},
   "source": [
    "6.Python program to print odd numbers in a List"
   ]
  },
  {
   "cell_type": "code",
   "execution_count": 19,
   "id": "acc09574",
   "metadata": {},
   "outputs": [
    {
     "name": "stdout",
     "output_type": "stream",
     "text": [
      "3 5 7 99 "
     ]
    }
   ],
   "source": [
    "list=[2,3,6,5,4,7,88,99]\n",
    "\n",
    "for i in list:\n",
    "    if i%2!=0:\n",
    "        print(i, end=\" \")\n",
    "        "
   ]
  },
  {
   "cell_type": "code",
   "execution_count": 21,
   "id": "df136f96",
   "metadata": {},
   "outputs": [
    {
     "name": "stdout",
     "output_type": "stream",
     "text": [
      "[3, 5, 7, 99]\n"
     ]
    }
   ],
   "source": [
    "# list comprehension\n",
    "list=[2,3,6,5,4,7,88,99]\n",
    "a=[i for i in list if i%2!=0]\n",
    "print(a)"
   ]
  },
  {
   "cell_type": "markdown",
   "id": "a3a1ce17",
   "metadata": {},
   "source": [
    "7.Python program to print all even numbers in a range"
   ]
  },
  {
   "cell_type": "code",
   "execution_count": 29,
   "id": "38437f7a",
   "metadata": {},
   "outputs": [
    {
     "name": "stdout",
     "output_type": "stream",
     "text": [
      "Enter start point\n",
      "None1\n",
      "Enter end point\n",
      "None50\n",
      "2 4 6 8 10 12 14 16 18 20 22 24 26 28 30 32 34 36 38 40 42 44 46 48 50 "
     ]
    }
   ],
   "source": [
    "start=int(input(print(\"Enter start point\")))\n",
    "end=int(input(print(\"Enter end point\")))\n",
    "\n",
    "for i in range(start, end+1):\n",
    "    if i%2==0:\n",
    "        print(i, end=\" \")\n",
    "      "
   ]
  },
  {
   "cell_type": "markdown",
   "id": "eba1c42b",
   "metadata": {},
   "source": [
    "8.Python program to print all odd numbers in a range"
   ]
  },
  {
   "cell_type": "code",
   "execution_count": 33,
   "id": "014e13fd",
   "metadata": {},
   "outputs": [
    {
     "name": "stdout",
     "output_type": "stream",
     "text": [
      "Enter start point\n",
      "None1\n",
      "enter end ponit\n",
      "None50\n",
      "1 3 5 7 9 11 13 15 17 19 21 23 25 27 29 31 33 35 37 39 41 43 45 47 49 "
     ]
    }
   ],
   "source": [
    "start=int(input(print(\"Enter start point\")))\n",
    "end=int(input(print(\"enter end ponit\")))\n",
    "\n",
    "for i in range(start, end+1):\n",
    "    if i%2!=0:\n",
    "        print(i, end=\" \")"
   ]
  },
  {
   "cell_type": "markdown",
   "id": "eca32eb9",
   "metadata": {},
   "source": [
    "9.Python program to print positive numbers in a list"
   ]
  },
  {
   "cell_type": "code",
   "execution_count": 32,
   "id": "37703aad",
   "metadata": {},
   "outputs": [
    {
     "name": "stdout",
     "output_type": "stream",
     "text": [
      "2 0 3 5 "
     ]
    }
   ],
   "source": [
    "list=[2,0,3,-9,-6,5,-7]\n",
    "\n",
    "for i in list:\n",
    "    if(i>=0):\n",
    "        print(i, end =\" \")\n"
   ]
  },
  {
   "cell_type": "markdown",
   "id": "2799f8cd",
   "metadata": {},
   "source": [
    "10.Python program to print negative numbers in a list"
   ]
  },
  {
   "cell_type": "code",
   "execution_count": 34,
   "id": "17550e6e",
   "metadata": {},
   "outputs": [
    {
     "name": "stdout",
     "output_type": "stream",
     "text": [
      "-9 -6 -7 "
     ]
    }
   ],
   "source": [
    "list=[2,0,3,-9,-6,5,-7]\n",
    "\n",
    "for i in list:\n",
    "    if(i<0):\n",
    "        print(i, end=\" \")"
   ]
  },
  {
   "cell_type": "markdown",
   "id": "dd1e675b",
   "metadata": {},
   "source": [
    "11.Python program to print all positive numbers in a range"
   ]
  },
  {
   "cell_type": "code",
   "execution_count": 36,
   "id": "b7875ccf",
   "metadata": {},
   "outputs": [
    {
     "name": "stdout",
     "output_type": "stream",
     "text": [
      "Enter start point\n",
      "None-10\n",
      "Enter end point\n",
      "None20\n",
      "0 1 2 3 4 5 6 7 8 9 10 11 12 13 14 15 16 17 18 19 20 "
     ]
    }
   ],
   "source": [
    "start=int(input(print(\"Enter start point\")))\n",
    "end=int(input(print(\"Enter end point\")))\n",
    "\n",
    "for i in range(start,end+1):\n",
    "    if (i>=0):\n",
    "        print(i, end=\" \")\n"
   ]
  }
 ],
 "metadata": {
  "kernelspec": {
   "display_name": "Python 3",
   "language": "python",
   "name": "python3"
  },
  "language_info": {
   "codemirror_mode": {
    "name": "ipython",
    "version": 3
   },
   "file_extension": ".py",
   "mimetype": "text/x-python",
   "name": "python",
   "nbconvert_exporter": "python",
   "pygments_lexer": "ipython3",
   "version": "3.8.8"
  }
 },
 "nbformat": 4,
 "nbformat_minor": 5
}
