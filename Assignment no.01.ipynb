{
 "cells": [
  {
   "cell_type": "markdown",
   "id": "2c8f84f8",
   "metadata": {},
   "source": [
    "1) Write a Python program to find those numbers which are divisible by 7 and multiple of 5, between 1500 and 2700 (both included)."
   ]
  },
  {
   "cell_type": "code",
   "execution_count": 11,
   "id": "a4068ae8",
   "metadata": {},
   "outputs": [
    {
     "name": "stdout",
     "output_type": "stream",
     "text": [
      "[1505, 1540, 1575, 1610, 1645, 1680, 1715, 1750, 1785, 1820, 1855, 1890, 1925, 1960, 1995, 2030, 2065, 2100, 2135, 2170, 2205, 2240, 2275, 2310, 2345, 2380, 2415, 2450, 2485, 2520, 2555, 2590, 2625, 2660, 2695]\n"
     ]
    }
   ],
   "source": [
    "number=[]\n",
    "for x in range(1500,2701):\n",
    "    if x%7==0 and x%5==0:\n",
    "        number.append(x)\n",
    "print(number)\n",
    "        "
   ]
  },
  {
   "cell_type": "markdown",
   "id": "39633fe6",
   "metadata": {},
   "source": [
    "2)Python program to add two numbers."
   ]
  },
  {
   "cell_type": "code",
   "execution_count": 14,
   "id": "c835e135",
   "metadata": {},
   "outputs": [
    {
     "name": "stdout",
     "output_type": "stream",
     "text": [
      "4\n"
     ]
    }
   ],
   "source": [
    "a=1\n",
    "b=3\n",
    "\n",
    "c=a+b\n",
    "print(c)"
   ]
  },
  {
   "cell_type": "markdown",
   "id": "c6596a0f",
   "metadata": {},
   "source": [
    "3)Maximum of two numbers in Python."
   ]
  },
  {
   "cell_type": "code",
   "execution_count": 34,
   "id": "9097baa6",
   "metadata": {},
   "outputs": [
    {
     "name": "stdout",
     "output_type": "stream",
     "text": [
      "9\n"
     ]
    }
   ],
   "source": [
    "a=3\n",
    "b=9\n",
    "\n",
    "if a>b:\n",
    "    print(a)\n",
    "\n",
    "else:\n",
    "    print(b)\n",
    "\n"
   ]
  },
  {
   "cell_type": "markdown",
   "id": "9201cff8",
   "metadata": {},
   "source": [
    "4)python Program for factorial of a number."
   ]
  },
  {
   "cell_type": "code",
   "execution_count": 36,
   "id": "aff74027",
   "metadata": {},
   "outputs": [
    {
     "name": "stdout",
     "output_type": "stream",
     "text": [
      "enter number5\n",
      "120\n"
     ]
    }
   ],
   "source": [
    "a=int(input(\"enter number\"))\n",
    "b=1\n",
    "for x in range(1,a+1):\n",
    "    b=b*x\n",
    "print(b)"
   ]
  },
  {
   "cell_type": "markdown",
   "id": "7fc218d7",
   "metadata": {},
   "source": [
    "5) Python Program for simple interest"
   ]
  },
  {
   "cell_type": "code",
   "execution_count": 4,
   "id": "6569a868",
   "metadata": {},
   "outputs": [
    {
     "name": "stdout",
     "output_type": "stream",
     "text": [
      "the principal amount is 5000\n",
      "the time is 2\n",
      "the interest rate is 11\n",
      "simple interest is 1100.0\n"
     ]
    }
   ],
   "source": [
    "def simpleint(p,t,r):\n",
    "    print(\"the principal amount is\",p)\n",
    "    print(\"the time is\",t)\n",
    "    print(\"the interest rate is\",r)\n",
    "    \n",
    "    si=(p*t*r)/100\n",
    "    \n",
    "    print(\"simple interest is\",si)\n",
    "\n",
    "simpleint(5000,2,11)"
   ]
  },
  {
   "cell_type": "markdown",
   "id": "c6ad8e0a",
   "metadata": {},
   "source": [
    "6) Python Program for compound interest"
   ]
  },
  {
   "cell_type": "code",
   "execution_count": 5,
   "id": "e4b18434",
   "metadata": {
    "scrolled": true
   },
   "outputs": [
    {
     "name": "stdout",
     "output_type": "stream",
     "text": [
      "the principal amount is 3000\n",
      "the time is 1\n",
      "the interest rate is 6\n",
      "compund interest is 180.0\n"
     ]
    }
   ],
   "source": [
    "def compundint(p,t,r):\n",
    "    print(\"the principal amount is\",p)\n",
    "    print(\"the time is\",t)\n",
    "    print(\"the interest rate is\",r)\n",
    "    \n",
    "    a=p*(pow((1+r/100),t))\n",
    "    \n",
    "    ci=a-p\n",
    "    \n",
    "    print(\"compund interest is\",ci)\n",
    "\n",
    "compundint(3000,1,6)"
   ]
  },
  {
   "cell_type": "markdown",
   "id": "76472984",
   "metadata": {},
   "source": [
    "7) Python Program to check Armstrong Number"
   ]
  },
  {
   "cell_type": "code",
   "execution_count": 15,
   "id": "fd1ee2c5",
   "metadata": {},
   "outputs": [
    {
     "name": "stdout",
     "output_type": "stream",
     "text": [
      "Enter a number: 523\n",
      "523 is not an Armstrong number\n"
     ]
    }
   ],
   "source": [
    "num = int(input(\"Enter a number: \"))\n",
    "\n",
    "sum = 0\n",
    "temp = num\n",
    "while temp > 0:\n",
    "   digit = temp % 10\n",
    "   sum += digit ** 3\n",
    "   temp //= 10\n",
    "if num == sum:\n",
    "   print(num,\"is an Armstrong number\")\n",
    "else:\n",
    "   print(num,\"is not an Armstrong number\")"
   ]
  },
  {
   "cell_type": "markdown",
   "id": "30896cf8",
   "metadata": {},
   "source": [
    "8)Python Program for Program to find area of a circle"
   ]
  },
  {
   "cell_type": "code",
   "execution_count": 18,
   "id": "944227c0",
   "metadata": {},
   "outputs": [
    {
     "name": "stdout",
     "output_type": "stream",
     "text": [
      "Area of circle is 78.5\n"
     ]
    }
   ],
   "source": [
    "pi=3.14\n",
    "r=5\n",
    "areaofcircle=pi*r*r\n",
    "\n",
    "print(\"Area of circle is\",areaofcircle)"
   ]
  },
  {
   "cell_type": "markdown",
   "id": "af4262a8",
   "metadata": {},
   "source": [
    "9)Python program to print all Prime numbers in an Interva"
   ]
  },
  {
   "cell_type": "code",
   "execution_count": 23,
   "id": "e2ffe266",
   "metadata": {},
   "outputs": [
    {
     "name": "stdout",
     "output_type": "stream",
     "text": [
      "Prime numbers between 33 and 66 are:\n",
      "37\n",
      "41\n",
      "43\n",
      "47\n",
      "53\n",
      "59\n",
      "61\n"
     ]
    }
   ],
   "source": [
    "lower = 33\n",
    "upper = 66\n",
    "\n",
    "print(\"Prime numbers between\", lower, \"and\", upper, \"are:\")\n",
    "\n",
    "for num in range(lower, upper + 1):\n",
    "   if num > 1:\n",
    "       for i in range(2, num):\n",
    "           if (num % i) == 0:\n",
    "               break\n",
    "       else:\n",
    "           print(num)"
   ]
  },
  {
   "cell_type": "markdown",
   "id": "e7c863e3",
   "metadata": {},
   "source": [
    "10) Python program to check whether a number is Prime or not"
   ]
  },
  {
   "cell_type": "code",
   "execution_count": 10,
   "id": "36af389c",
   "metadata": {},
   "outputs": [
    {
     "name": "stdout",
     "output_type": "stream",
     "text": [
      "It's not a prime number\n"
     ]
    }
   ],
   "source": [
    "num=9632587410\n",
    "\n",
    "if num>1:\n",
    "    for i in range(2,num):\n",
    "        if(num%i)==0:\n",
    "            print(\"It's not a prime number\")\n",
    "            break\n",
    "    else:\n",
    "        print(\"It's a prime number\")\n",
    "\n",
    "else:\n",
    "    print(\"It's not a prime number\")"
   ]
  }
 ],
 "metadata": {
  "kernelspec": {
   "display_name": "Python 3",
   "language": "python",
   "name": "python3"
  },
  "language_info": {
   "codemirror_mode": {
    "name": "ipython",
    "version": 3
   },
   "file_extension": ".py",
   "mimetype": "text/x-python",
   "name": "python",
   "nbconvert_exporter": "python",
   "pygments_lexer": "ipython3",
   "version": "3.8.8"
  }
 },
 "nbformat": 4,
 "nbformat_minor": 5
}
