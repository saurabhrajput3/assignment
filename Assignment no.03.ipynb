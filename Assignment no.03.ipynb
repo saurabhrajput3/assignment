{
 "cells": [
  {
   "cell_type": "markdown",
   "id": "c79afc4c",
   "metadata": {},
   "source": [
    "\n",
    "1.Python Program for Find reminder of array multiplication divided by n"
   ]
  },
  {
   "cell_type": "code",
   "execution_count": 17,
   "id": "4bf38737",
   "metadata": {},
   "outputs": [
    {
     "name": "stdout",
     "output_type": "stream",
     "text": [
      "225\n"
     ]
    }
   ],
   "source": [
    "from functools import reduce\n",
    "\n",
    "def find_remainder(arr,n):\n",
    "    sum_1=reduce(lambda x,y: x*y,arr)\n",
    "\n",
    "    remainder=sum_1%n\n",
    "\n",
    "    print(remainder)\n",
    "\n",
    "arr=[100,10,5,25,14,22,6]\n",
    "\n",
    "n=569\n",
    "\n",
    "find_remainder(arr,n)"
   ]
  },
  {
   "cell_type": "code",
   "execution_count": 23,
   "id": "4abd1646",
   "metadata": {},
   "outputs": [
    {
     "name": "stdout",
     "output_type": "stream",
     "text": [
      "385\n"
     ]
    }
   ],
   "source": [
    "arr=[5,3,6,8,9,656]\n",
    "n=565\n",
    "x=1\n",
    "for i in range(0,len(arr)):\n",
    "    x=x*arr[i]\n",
    "    \n",
    "a=x%n\n",
    "\n",
    "\n",
    "print(a)\n"
   ]
  },
  {
   "cell_type": "markdown",
   "id": "c04e3bc6",
   "metadata": {},
   "source": [
    "2.Python Program to check if given array is Monotonic"
   ]
  },
  {
   "cell_type": "code",
   "execution_count": 7,
   "id": "2e713d09",
   "metadata": {},
   "outputs": [
    {
     "data": {
      "text/plain": [
       "True"
      ]
     },
     "execution_count": 7,
     "metadata": {},
     "output_type": "execute_result"
    }
   ],
   "source": [
    "def monotonic(a):\n",
    "    n=len(a)\n",
    "    \n",
    "    return all(a[i]<=a[i+1] for i in range(0,n-1) or a[i]>=a[i+1] for i in range(0,n-1))\n",
    "     \n",
    "a=[1,2,3,6,9]\n",
    "monotonic(a)"
   ]
  },
  {
   "cell_type": "markdown",
   "id": "8dbd557c",
   "metadata": {},
   "source": [
    "3.Python program to interchange first and last elements in a list"
   ]
  },
  {
   "cell_type": "code",
   "execution_count": 8,
   "id": "ca617d92",
   "metadata": {},
   "outputs": [
    {
     "name": "stdout",
     "output_type": "stream",
     "text": [
      "[5, 2, 3, 4, 1]\n"
     ]
    }
   ],
   "source": [
    "list=[1,2,3,4,5]\n",
    "n=len(list)\n",
    "\n",
    "temp=list[n-1]\n",
    "list[n-1]=list[0]\n",
    "list[0]=temp\n",
    "\n",
    "print(list)"
   ]
  },
  {
   "cell_type": "code",
   "execution_count": 9,
   "id": "defe55a6",
   "metadata": {},
   "outputs": [
    {
     "name": "stdout",
     "output_type": "stream",
     "text": [
      "[5, 2, 3, 4, 1]\n"
     ]
    }
   ],
   "source": [
    "list=[1,2,3,4,5]\n",
    "n=len(list)\n",
    "\n",
    "list[0],list[n-1]=list[n-1],list[0]\n",
    "\n",
    "print(list)"
   ]
  },
  {
   "cell_type": "markdown",
   "id": "ae906605",
   "metadata": {},
   "source": [
    "4.Python program to swap two elements in a list"
   ]
  },
  {
   "cell_type": "code",
   "execution_count": 11,
   "id": "28146c47",
   "metadata": {},
   "outputs": [
    {
     "name": "stdout",
     "output_type": "stream",
     "text": [
      "[1, 2, 5, 4, 3]\n"
     ]
    }
   ],
   "source": [
    "list=[1,2,3,4,5]\n",
    "n=len(list)\n",
    "pos1=2\n",
    "pos2=4\n",
    "\n",
    "temp=list[pos2]\n",
    "list[pos2]=list[pos1]\n",
    "list[pos1]=temp\n",
    "\n",
    "print(list)"
   ]
  },
  {
   "cell_type": "code",
   "execution_count": 13,
   "id": "690c1402",
   "metadata": {},
   "outputs": [
    {
     "name": "stdout",
     "output_type": "stream",
     "text": [
      "[1, 2, 5, 4, 3]\n"
     ]
    }
   ],
   "source": [
    "list=[1,2,3,4,5]\n",
    "n=len(list)\n",
    "pos1=2\n",
    "pos2=4\n",
    "\n",
    "list[pos1],list[pos2]=list[pos2],list[pos1]\n",
    "\n",
    "print(list)"
   ]
  },
  {
   "cell_type": "markdown",
   "id": "e9afb696",
   "metadata": {},
   "source": [
    "5.write a program to find length of list"
   ]
  },
  {
   "cell_type": "code",
   "execution_count": 14,
   "id": "bbf2ea28",
   "metadata": {},
   "outputs": [
    {
     "name": "stdout",
     "output_type": "stream",
     "text": [
      "7\n"
     ]
    }
   ],
   "source": [
    "list=[1,2,3,6,5,4,7]\n",
    "\n",
    "a=len(list)\n",
    "\n",
    "print(a)"
   ]
  },
  {
   "cell_type": "markdown",
   "id": "c9fc9275",
   "metadata": {},
   "source": [
    "6.write a program to check if element exists in list"
   ]
  },
  {
   "cell_type": "code",
   "execution_count": 19,
   "id": "52614c5a",
   "metadata": {},
   "outputs": [
    {
     "name": "stdout",
     "output_type": "stream",
     "text": [
      "Element Exist\n"
     ]
    }
   ],
   "source": [
    "list=[1,2,5,8,96,36]\n",
    "\n",
    "e=5\n",
    "\n",
    "if e in list:\n",
    "       print(\"Element Exist\")\n",
    "else:\n",
    "    print(\"It's not exist\")"
   ]
  },
  {
   "cell_type": "markdown",
   "id": "19f386b0",
   "metadata": {},
   "source": [
    "7.write a program to clear a list in Python"
   ]
  },
  {
   "cell_type": "code",
   "execution_count": 24,
   "id": "32d19015",
   "metadata": {},
   "outputs": [
    {
     "name": "stdout",
     "output_type": "stream",
     "text": [
      "list is [6, 3, 5, 4, 2, 3, 6, 1, 2]\n",
      "After clear []\n"
     ]
    }
   ],
   "source": [
    "list=[6,3,5,4,2,3,6,1,2]\n",
    "\n",
    "print(\"list is\",list)\n",
    "\n",
    "list.clear()\n",
    "print(\"After clear\",list)"
   ]
  },
  {
   "cell_type": "markdown",
   "id": "5b3bffd4",
   "metadata": {},
   "source": [
    "8.write a program to Reversing a List"
   ]
  },
  {
   "cell_type": "code",
   "execution_count": 33,
   "id": "83edd820",
   "metadata": {},
   "outputs": [
    {
     "name": "stdout",
     "output_type": "stream",
     "text": [
      "Reverse list is [7, 4, 5, 6, 3, 2, 1]\n"
     ]
    }
   ],
   "source": [
    "list=[1,2,3,6,5,4,7]\n",
    "print(\"Reverse list is\",list[::-1])"
   ]
  },
  {
   "cell_type": "code",
   "execution_count": 34,
   "id": "6e7a74f3",
   "metadata": {},
   "outputs": [
    {
     "name": "stdout",
     "output_type": "stream",
     "text": [
      "[9, 8, 7, 4, 5, 6, 3, 2, 1]\n"
     ]
    }
   ],
   "source": [
    "#using reverse function\n",
    "list=[1,2,3,6,5,4,7,8,9]\n",
    "\n",
    "list.reverse()\n",
    "\n",
    "print(list)"
   ]
  },
  {
   "cell_type": "markdown",
   "id": "72af8966",
   "metadata": {},
   "source": [
    "9.write a program to find sum of elements in list"
   ]
  },
  {
   "cell_type": "code",
   "execution_count": 39,
   "id": "d0fa957c",
   "metadata": {},
   "outputs": [
    {
     "name": "stdout",
     "output_type": "stream",
     "text": [
      "Sum of list is 111\n"
     ]
    }
   ],
   "source": [
    "list=[1,2,3,6,5,89,5]\n",
    "a=sum(list)\n",
    "print(\"Sum of list is\",a)"
   ]
  },
  {
   "cell_type": "markdown",
   "id": "68029112",
   "metadata": {},
   "source": [
    "10.write a program to Multiply all numbers in the list"
   ]
  },
  {
   "cell_type": "code",
   "execution_count": 40,
   "id": "ea6b8ff3",
   "metadata": {},
   "outputs": [
    {
     "name": "stdout",
     "output_type": "stream",
     "text": [
      "Multiplication of list is: 12960\n"
     ]
    }
   ],
   "source": [
    "#first approach\n",
    "\n",
    "from functools import reduce\n",
    "list=[1,2,3,6,5,8,9]\n",
    "\n",
    "a=reduce(lambda x,y:x*y,list)\n",
    "print(\"Multiplication of list is:\",a)"
   ]
  },
  {
   "cell_type": "code",
   "execution_count": 43,
   "id": "81c33391",
   "metadata": {},
   "outputs": [
    {
     "name": "stdout",
     "output_type": "stream",
     "text": [
      "12960\n"
     ]
    }
   ],
   "source": [
    "#second approach\n",
    "\n",
    "list=[1,2,3,6,5,8,9]\n",
    "a=1\n",
    "for i in list:\n",
    "   a=a*i\n",
    "\n",
    "print(a)\n"
   ]
  }
 ],
 "metadata": {
  "kernelspec": {
   "display_name": "Python 3",
   "language": "python",
   "name": "python3"
  },
  "language_info": {
   "codemirror_mode": {
    "name": "ipython",
    "version": 3
   },
   "file_extension": ".py",
   "mimetype": "text/x-python",
   "name": "python",
   "nbconvert_exporter": "python",
   "pygments_lexer": "ipython3",
   "version": "3.8.8"
  }
 },
 "nbformat": 4,
 "nbformat_minor": 5
}
