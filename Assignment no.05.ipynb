{
 "cells": [
  {
   "cell_type": "markdown",
   "id": "9f304307",
   "metadata": {},
   "source": [
    "1.Python program to print all negative numbers in a range"
   ]
  },
  {
   "cell_type": "code",
   "execution_count": 2,
   "id": "9fb7093d",
   "metadata": {},
   "outputs": [
    {
     "name": "stdout",
     "output_type": "stream",
     "text": [
      "Enter start point\n",
      "None-9\n",
      "Enter end point\n",
      "None85\n",
      "-9 -8 -7 -6 -5 -4 -3 -2 -1 "
     ]
    }
   ],
   "source": [
    "start=int(input(print(\"Enter start point\")))\n",
    "end=int(input(print(\"Enter end point\")))\n",
    "\n",
    "for i in range(start, end+1):\n",
    "    if(i<0):\n",
    "        print(i, end=\" \")"
   ]
  },
  {
   "cell_type": "markdown",
   "id": "2640b26a",
   "metadata": {},
   "source": [
    "2.Remove multiple elements from a list in Python"
   ]
  },
  {
   "cell_type": "code",
   "execution_count": 4,
   "id": "085655dd",
   "metadata": {},
   "outputs": [
    {
     "name": "stdout",
     "output_type": "stream",
     "text": [
      "[2, 7, 66, 33]\n"
     ]
    }
   ],
   "source": [
    "list=[2,5,6,8,9,7,66,33]\n",
    "del list[1:5]\n",
    "print(list)"
   ]
  },
  {
   "cell_type": "code",
   "execution_count": 6,
   "id": "a2f6d216",
   "metadata": {},
   "outputs": [
    {
     "name": "stdout",
     "output_type": "stream",
     "text": [
      "[5, 8, 9, 7, 33]\n"
     ]
    }
   ],
   "source": [
    "list=[2,5,6,8,9,7,66,33]\n",
    "for i in list:\n",
    "    if i%2==0:\n",
    "        list.remove(i)\n",
    "print(list)"
   ]
  },
  {
   "cell_type": "markdown",
   "id": "fd603482",
   "metadata": {},
   "source": [
    "3.write a Python program to Remove empty List from List"
   ]
  },
  {
   "cell_type": "code",
   "execution_count": 24,
   "id": "7d452efa",
   "metadata": {},
   "outputs": [
    {
     "name": "stdout",
     "output_type": "stream",
     "text": [
      "[2, 3, 66, 55, 11, 2]\n"
     ]
    }
   ],
   "source": [
    "list1=[2,3,66,[],55,[],11,2]\n",
    "a=[i for i in list if i !=[]]\n",
    "print(a)"
   ]
  },
  {
   "cell_type": "code",
   "execution_count": 28,
   "id": "159dc741",
   "metadata": {},
   "outputs": [
    {
     "name": "stdout",
     "output_type": "stream",
     "text": [
      "2 3 66 55 11 2 "
     ]
    }
   ],
   "source": [
    "list1=[2,3,66,[],55,[],11,2]\n",
    "for i in list:\n",
    "    if i!=[]:\n",
    "        print(i,end=\" \")"
   ]
  },
  {
   "cell_type": "markdown",
   "id": "05a7244b",
   "metadata": {},
   "source": [
    "4.write a Python program to Cloning or Copying a list"
   ]
  },
  {
   "cell_type": "code",
   "execution_count": 5,
   "id": "aa36ec6b",
   "metadata": {},
   "outputs": [
    {
     "data": {
      "text/plain": [
       "[2, 5, 6, 3, 4, 9, 6]"
      ]
     },
     "execution_count": 5,
     "metadata": {},
     "output_type": "execute_result"
    }
   ],
   "source": [
    "def cloning(a):\n",
    "    list2=list[:]\n",
    "    return list2\n",
    "\n",
    "list=[2,5,6,3,4,9,6]\n",
    "cloning(list)\n"
   ]
  },
  {
   "cell_type": "markdown",
   "id": "a2b01be2",
   "metadata": {},
   "source": [
    "5.write a Python program to Count occurrences of an element in a list"
   ]
  },
  {
   "cell_type": "code",
   "execution_count": 8,
   "id": "92fe9155",
   "metadata": {},
   "outputs": [
    {
     "name": "stdout",
     "output_type": "stream",
     "text": [
      "4\n"
     ]
    }
   ],
   "source": [
    "def occ(list,a):\n",
    "    count=0\n",
    "    for i in list:\n",
    "        if(i==a):\n",
    "            count=count+1\n",
    "    print(count)\n",
    "list=[1,5,2,3,2,3,2,6,42,3,2]\n",
    "a=2\n",
    "occ(list,a)\n",
    "            "
   ]
  },
  {
   "cell_type": "code",
   "execution_count": 10,
   "id": "c0fe58fd",
   "metadata": {},
   "outputs": [
    {
     "data": {
      "text/plain": [
       "5"
      ]
     },
     "execution_count": 10,
     "metadata": {},
     "output_type": "execute_result"
    }
   ],
   "source": [
    "list=[5,6,9,6,3,6,5,2,6,6]\n",
    "a=6\n",
    "list.count(a)"
   ]
  },
  {
   "cell_type": "markdown",
   "id": "cd4aa980",
   "metadata": {},
   "source": [
    "6.write a Python program to Remove empty tuples from a list"
   ]
  },
  {
   "cell_type": "code",
   "execution_count": 9,
   "id": "86fad1ef",
   "metadata": {},
   "outputs": [
    {
     "name": "stdout",
     "output_type": "stream",
     "text": [
      "['saurabh', ' ']\n"
     ]
    }
   ],
   "source": [
    "list=[(),(\"saurabh\"),(),(\" \"),(\"\")]\n",
    "l=[t for t in list if t]\n",
    "print(l)"
   ]
  },
  {
   "cell_type": "markdown",
   "id": "ac8dad4f",
   "metadata": {},
   "source": [
    "7.write a Python program to Program to print duplicates from a list of integers"
   ]
  },
  {
   "cell_type": "code",
   "execution_count": 12,
   "id": "559a908c",
   "metadata": {},
   "outputs": [
    {
     "name": "stdout",
     "output_type": "stream",
     "text": [
      "Duplicate integeres:  [2, 3, 6, 5]\n"
     ]
    }
   ],
   "source": [
    "def duplicate(li):\n",
    "    n=len(li)\n",
    "    dup=[]\n",
    "    for i in range(n):\n",
    "        k = i + 1\n",
    "        for j in range(k,n):\n",
    "            if li[i] == li[j] and li[i] not in dup:\n",
    "                dup.append(li[i])\n",
    "    return dup\n",
    "\n",
    "li=[2,3,6,5,2,4,3,6,9,8,5,3]\n",
    "print(\"Duplicate integeres: \",duplicate(li))"
   ]
  },
  {
   "cell_type": "markdown",
   "id": "f3c9b97e",
   "metadata": {},
   "source": [
    "8.write a Python program to find Cumulative sum of a list"
   ]
  },
  {
   "cell_type": "code",
   "execution_count": 5,
   "id": "7948de2a",
   "metadata": {},
   "outputs": [
    {
     "name": "stdout",
     "output_type": "stream",
     "text": [
      "[2, 5, 11, 20, 28, 33, 39, 48]\n"
     ]
    }
   ],
   "source": [
    "list=[2,3,6,9,8,5,6,9]\n",
    "cumsum=[]\n",
    "j=0\n",
    "for i in list:\n",
    "    j=j+i\n",
    "    cumsum.append(j)\n",
    "print(cumsum)\n",
    "    "
   ]
  },
  {
   "cell_type": "markdown",
   "id": "b82986b2",
   "metadata": {},
   "source": [
    "9.write a Python program to Sum of number digits in List"
   ]
  },
  {
   "cell_type": "code",
   "execution_count": 14,
   "id": "696e37bd",
   "metadata": {},
   "outputs": [
    {
     "name": "stdout",
     "output_type": "stream",
     "text": [
      "[14, 9, 3, 11, 7, 9]\n"
     ]
    }
   ],
   "source": [
    "list=[95,63,21,47,52,36]\n",
    "list1=[]\n",
    "for i in list:\n",
    "    a=0\n",
    "    for j in str(i):\n",
    "        a=a+int(j)\n",
    "    list1.append(a)\n",
    "print(list1)"
   ]
  },
  {
   "cell_type": "markdown",
   "id": "b7f057ba",
   "metadata": {},
   "source": [
    "10.write a Python program to Break a list into chunks of size N "
   ]
  },
  {
   "cell_type": "code",
   "execution_count": 14,
   "id": "8cdaaa9a",
   "metadata": {},
   "outputs": [
    {
     "name": "stdout",
     "output_type": "stream",
     "text": [
      "[[1, 2, 3], [4, 5, 6], [7, 8, 9], [10]]\n"
     ]
    }
   ],
   "source": [
    "list=[1,2,3,4,5,6,7,8,9,10]\n",
    "n=3\n",
    "a=[list[i:i+3] for i in range(0,len(list),n)]\n",
    "print(a)"
   ]
  },
  {
   "cell_type": "markdown",
   "id": "02029c66",
   "metadata": {},
   "source": [
    "11.write a Python program to Sort the values of first list using second list"
   ]
  },
  {
   "cell_type": "code",
   "execution_count": 36,
   "id": "f3886980",
   "metadata": {},
   "outputs": [
    {
     "name": "stdout",
     "output_type": "stream",
     "text": [
      "[('a', 2), ('a', 5), ('b', 6), ('h', 7), ('r', 4), ('s', 1), ('u', 3)]\n",
      "[2, 5, 6, 7, 4, 1, 3]\n"
     ]
    }
   ],
   "source": [
    "l1=[\"b\",\"s\",\"a\",\"h\",\"a\",\"r\",\"u\"]\n",
    "l2=[6,1,5,7,2,4,3]\n",
    "\n",
    "a=zip(l1,l2)\n",
    "b=sorted(a)\n",
    "print(b)\n",
    "c=[i[1] for i in b]\n",
    "print(c)"
   ]
  }
 ],
 "metadata": {
  "kernelspec": {
   "display_name": "Python 3",
   "language": "python",
   "name": "python3"
  },
  "language_info": {
   "codemirror_mode": {
    "name": "ipython",
    "version": 3
   },
   "file_extension": ".py",
   "mimetype": "text/x-python",
   "name": "python",
   "nbconvert_exporter": "python",
   "pygments_lexer": "ipython3",
   "version": "3.8.8"
  }
 },
 "nbformat": 4,
 "nbformat_minor": 5
}
